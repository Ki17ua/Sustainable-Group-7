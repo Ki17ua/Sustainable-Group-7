{
  "cells": [
    {
      "cell_type": "markdown",
      "metadata": {
        "id": "view-in-github",
        "colab_type": "text"
      },
      "source": [
        "<a href=\"https://colab.research.google.com/github/Ki17ua/Sustainable-Group-7/blob/main/coordinate.ipynb\" target=\"_parent\"><img src=\"https://colab.research.google.com/assets/colab-badge.svg\" alt=\"Open In Colab\"/></a>"
      ]
    },
    {
      "cell_type": "code",
      "execution_count": null,
      "metadata": {
        "id": "PIFJBLMgXE_O"
      },
      "outputs": [],
      "source": []
    },
    {
      "cell_type": "code",
      "execution_count": null,
      "metadata": {
        "id": "w9vGbtlAXE_O",
        "outputId": "b10e991a-e740-4228-c74f-c57ee7a67962"
      },
      "outputs": [
        {
          "name": "stderr",
          "output_type": "stream",
          "text": [
            "2024-04-30 18:41:14,667 - ERROR - Failed to fetch data for OSM ID 357575776: list index out of range\n",
            "2024-04-30 18:42:09,684 - ERROR - Failed to fetch data for OSM ID 357580543: list index out of range\n",
            "2024-04-30 18:44:39,864 - ERROR - Failed to fetch data for OSM ID 357592263: list index out of range\n",
            "2024-04-30 18:47:46,534 - ERROR - Failed to fetch data for OSM ID 357616401: list index out of range\n",
            "2024-04-30 18:50:50,839 - ERROR - Failed to fetch data for OSM ID 357646087: list index out of range\n",
            "2024-04-30 18:51:04,134 - ERROR - Failed to fetch data for OSM ID 357647454: list index out of range\n",
            "2024-04-30 18:52:54,706 - ERROR - Failed to fetch data for OSM ID 2926841569: list index out of range\n"
          ]
        },
        {
          "name": "stdout",
          "output_type": "stream",
          "text": [
            "   FID Shape *     osm_id  code  fclass                            name  \\\n",
            "0    6   Point  103786325  2082  school     Northwood Elementary School   \n",
            "1  114   Point  335016714  2082  school           Potsdam Middle School   \n",
            "2  127   Point  351905808  2082  school  C.V. Starr Intermediate School   \n",
            "3  158   Point  355268145  2082  school          Tappan Zee High School   \n",
            "4  165   Point  357334001  2082  school                Pine Flat School   \n",
            "\n",
            "                 coordinates  \n",
            "0   (42.863407, -78.7428759)  \n",
            "1  (44.6782023, -74.9745152)  \n",
            "2  (41.4359525, -73.6050191)  \n",
            "3  (41.0490834, -73.9540164)  \n",
            "4  (41.8017549, -75.0807235)  \n"
          ]
        }
      ],
      "source": [
        "import pandas as pd\n",
        "import requests\n",
        "import logging\n",
        "\n",
        "# Setup basic logging\n",
        "logging.basicConfig(level=logging.INFO, format='%(asctime)s - %(levelname)s - %(message)s')\n",
        "\n",
        "# Function to fetch coordinates from OpenStreetMap Overpass API\n",
        "def fetch_coordinates(osm_id):\n",
        "    \"\"\"\n",
        "    Fetches coordinates for a given OSM ID using the Overpass API.\n",
        "\n",
        "    Args:\n",
        "    osm_id (int): The OSM ID for which to fetch coordinates.\n",
        "\n",
        "    Returns:\n",
        "    tuple: A tuple containing the latitude and longitude, or (None, None) if not found.\n",
        "    \"\"\"\n",
        "    url = \"http://overpass-api.de/api/interpreter\"\n",
        "    query = f\"\"\"\n",
        "    [out:json];\n",
        "    (\n",
        "      node({osm_id});\n",
        "    );\n",
        "    out body;\n",
        "    \"\"\"\n",
        "    try:\n",
        "        with requests.Session() as session:\n",
        "            response = session.get(url, params={'data': query}, timeout=10)\n",
        "            response.raise_for_status()  # Raise an exception for HTTP errors\n",
        "            data = response.json()\n",
        "            element = data['elements'][0]\n",
        "            return element['lat'], element['lon']\n",
        "    except (requests.RequestException, IndexError, KeyError, ValueError) as e:\n",
        "        logging.error(f\"Failed to fetch data for OSM ID {osm_id}: {str(e)}\")\n",
        "        return None, None\n",
        "\n",
        "# Read the Excel file\n",
        "try:\n",
        "    df = pd.read_csv('C:/Users/ROG/Desktop/school.csv')\n",
        "\n",
        "    if 'osm_id' in df.columns:\n",
        "        # Apply the fetch_coordinates function to each osm_id\n",
        "        df['coordinates'] = df['osm_id'].apply(lambda x: fetch_coordinates(x))\n",
        "    else:\n",
        "        logging.error(\"Column 'osm_id' does not exist in the provided Excel file.\")\n",
        "except Exception as e:\n",
        "    logging.error(f\"Failed to read the Excel file: {str(e)}\")\n",
        "\n",
        "# Display the first few rows to verify\n",
        "print(df.head())\n",
        "\n",
        "# Optionally, save the dataframe with coordinates to a new Excel file\n",
        "df.to_excel('C:/Users/ROG/Desktop/school_with_coordinates.xlsx', index=False)\n"
      ]
    }
  ],
  "metadata": {
    "kernelspec": {
      "display_name": "Python 3",
      "language": "python",
      "name": "python3"
    },
    "language_info": {
      "codemirror_mode": {
        "name": "ipython",
        "version": 3
      },
      "file_extension": ".py",
      "mimetype": "text/x-python",
      "name": "python",
      "nbconvert_exporter": "python",
      "pygments_lexer": "ipython3",
      "version": "3.11.9"
    },
    "colab": {
      "provenance": [],
      "include_colab_link": true
    }
  },
  "nbformat": 4,
  "nbformat_minor": 0
}